{
  "nbformat": 4,
  "nbformat_minor": 0,
  "metadata": {
    "colab": {
      "provenance": [],
      "include_colab_link": true
    },
    "kernelspec": {
      "name": "python3",
      "display_name": "Python 3"
    },
    "language_info": {
      "name": "python"
    },
    "accelerator": "GPU"
  },
  "cells": [
    {
      "cell_type": "markdown",
      "metadata": {
        "id": "view-in-github",
        "colab_type": "text"
      },
      "source": [
        "<a href=\"https://colab.research.google.com/github/dblack954/problem-statistics/blob/main/Lab_10_Dylan_Black.ipynb\" target=\"_parent\"><img src=\"https://colab.research.google.com/assets/colab-badge.svg\" alt=\"Open In Colab\"/></a>"
      ]
    },
    {
      "cell_type": "markdown",
      "source": [
        "## Setup"
      ],
      "metadata": {
        "id": "PQsLStfxfRrO"
      }
    },
    {
      "cell_type": "markdown",
      "source": [
        "### Imports"
      ],
      "metadata": {
        "id": "X2noEVRFmHTi"
      }
    },
    {
      "cell_type": "code",
      "source": [
        "import numpy as np    # Importing numpy functions\n",
        "import matplotlib.pyplot as plt   # Import plotting tools\n",
        "import urllib.request   # Importing a python tool that fetches url data\n",
        "from PIL import Image   # Importing images from Python Imaging Library\n",
        "from imageio import *     # Importing an image data tool\n",
        "import torch    # Importing torch\n",
        "from skimage.transform import resize    # Importing skimage.transform, which is\n",
        "# a tool for geometric transformations of images\n",
        "from mpl_toolkits.axes_grid1.axes_rgb import make_rgb_axes, RGBAxes   # Two\n",
        "# components allow you to create and manipulate RGB plots in matplotlib\n",
        "from torchvision.models import *  # Importing torchvision models, which allows\n",
        "# you to easily access and use any of these models in your own code\n",
        "from torchvision.datasets import MNIST,KMNIST,FashionMNIST  # Imports three\n",
        "# different datasets from the torchvision.datasets module. MNIST is a collection\n",
        "# of 70,000 handwritten digits, KMNIST is similar to MNIST but with distorted\n",
        "# numbers, FashionMNIST is a collection of 70,000 images of clothing items\n",
        "from skimage.util import montage  # Imports the montage function which is used to\n",
        "# create a composite image from a collection of smaller images"
      ],
      "metadata": {
        "id": "aGu2hYn5VgKS"
      },
      "execution_count": 2,
      "outputs": []
    },
    {
      "cell_type": "code",
      "source": [
        "!pip install wandb    # Installing weights and biases, using the pip package\n",
        "# manager\n",
        "import wandb as wb    # Importing Weights and Biases"
      ],
      "metadata": {
        "id": "O1xRGxv7AfoZ",
        "colab": {
          "base_uri": "https://localhost:8080/"
        },
        "outputId": "68317180-670c-4b84-cf18-aa66179fb377"
      },
      "execution_count": 3,
      "outputs": [
        {
          "output_type": "stream",
          "name": "stdout",
          "text": [
            "Collecting wandb\n",
            "  Downloading wandb-0.16.4-py3-none-any.whl (2.2 MB)\n",
            "\u001b[?25l     \u001b[90m━━━━━━━━━━━━━━━━━━━━━━━━━━━━━━━━━━━━━━━━\u001b[0m \u001b[32m0.0/2.2 MB\u001b[0m \u001b[31m?\u001b[0m eta \u001b[36m-:--:--\u001b[0m\r\u001b[2K     \u001b[91m━━━━━━━━━\u001b[0m\u001b[90m╺\u001b[0m\u001b[90m━━━━━━━━━━━━━━━━━━━━━━━━━━━━━━\u001b[0m \u001b[32m0.5/2.2 MB\u001b[0m \u001b[31m15.0 MB/s\u001b[0m eta \u001b[36m0:00:01\u001b[0m\r\u001b[2K     \u001b[90m━━━━━━━━━━━━━━━━━━━━━━━━━━━━━━━━━━━━━━━━\u001b[0m \u001b[32m2.2/2.2 MB\u001b[0m \u001b[31m36.8 MB/s\u001b[0m eta \u001b[36m0:00:00\u001b[0m\n",
            "\u001b[?25hRequirement already satisfied: Click!=8.0.0,>=7.1 in /usr/local/lib/python3.10/dist-packages (from wandb) (8.1.7)\n",
            "Collecting GitPython!=3.1.29,>=1.0.0 (from wandb)\n",
            "  Downloading GitPython-3.1.42-py3-none-any.whl (195 kB)\n",
            "\u001b[2K     \u001b[90m━━━━━━━━━━━━━━━━━━━━━━━━━━━━━━━━━━━━━━━━\u001b[0m \u001b[32m195.4/195.4 kB\u001b[0m \u001b[31m27.2 MB/s\u001b[0m eta \u001b[36m0:00:00\u001b[0m\n",
            "\u001b[?25hRequirement already satisfied: requests<3,>=2.0.0 in /usr/local/lib/python3.10/dist-packages (from wandb) (2.31.0)\n",
            "Requirement already satisfied: psutil>=5.0.0 in /usr/local/lib/python3.10/dist-packages (from wandb) (5.9.5)\n",
            "Collecting sentry-sdk>=1.0.0 (from wandb)\n",
            "  Downloading sentry_sdk-1.43.0-py2.py3-none-any.whl (264 kB)\n",
            "\u001b[2K     \u001b[90m━━━━━━━━━━━━━━━━━━━━━━━━━━━━━━━━━━━━━━━━\u001b[0m \u001b[32m264.6/264.6 kB\u001b[0m \u001b[31m32.9 MB/s\u001b[0m eta \u001b[36m0:00:00\u001b[0m\n",
            "\u001b[?25hCollecting docker-pycreds>=0.4.0 (from wandb)\n",
            "  Downloading docker_pycreds-0.4.0-py2.py3-none-any.whl (9.0 kB)\n",
            "Requirement already satisfied: PyYAML in /usr/local/lib/python3.10/dist-packages (from wandb) (6.0.1)\n",
            "Collecting setproctitle (from wandb)\n",
            "  Downloading setproctitle-1.3.3-cp310-cp310-manylinux_2_5_x86_64.manylinux1_x86_64.manylinux_2_17_x86_64.manylinux2014_x86_64.whl (30 kB)\n",
            "Requirement already satisfied: setuptools in /usr/local/lib/python3.10/dist-packages (from wandb) (67.7.2)\n",
            "Requirement already satisfied: appdirs>=1.4.3 in /usr/local/lib/python3.10/dist-packages (from wandb) (1.4.4)\n",
            "Requirement already satisfied: protobuf!=4.21.0,<5,>=3.19.0 in /usr/local/lib/python3.10/dist-packages (from wandb) (3.20.3)\n",
            "Requirement already satisfied: six>=1.4.0 in /usr/local/lib/python3.10/dist-packages (from docker-pycreds>=0.4.0->wandb) (1.16.0)\n",
            "Collecting gitdb<5,>=4.0.1 (from GitPython!=3.1.29,>=1.0.0->wandb)\n",
            "  Downloading gitdb-4.0.11-py3-none-any.whl (62 kB)\n",
            "\u001b[2K     \u001b[90m━━━━━━━━━━━━━━━━━━━━━━━━━━━━━━━━━━━━━━━━\u001b[0m \u001b[32m62.7/62.7 kB\u001b[0m \u001b[31m9.9 MB/s\u001b[0m eta \u001b[36m0:00:00\u001b[0m\n",
            "\u001b[?25hRequirement already satisfied: charset-normalizer<4,>=2 in /usr/local/lib/python3.10/dist-packages (from requests<3,>=2.0.0->wandb) (3.3.2)\n",
            "Requirement already satisfied: idna<4,>=2.5 in /usr/local/lib/python3.10/dist-packages (from requests<3,>=2.0.0->wandb) (3.6)\n",
            "Requirement already satisfied: urllib3<3,>=1.21.1 in /usr/local/lib/python3.10/dist-packages (from requests<3,>=2.0.0->wandb) (2.0.7)\n",
            "Requirement already satisfied: certifi>=2017.4.17 in /usr/local/lib/python3.10/dist-packages (from requests<3,>=2.0.0->wandb) (2024.2.2)\n",
            "Collecting smmap<6,>=3.0.1 (from gitdb<5,>=4.0.1->GitPython!=3.1.29,>=1.0.0->wandb)\n",
            "  Downloading smmap-5.0.1-py3-none-any.whl (24 kB)\n",
            "Installing collected packages: smmap, setproctitle, sentry-sdk, docker-pycreds, gitdb, GitPython, wandb\n",
            "Successfully installed GitPython-3.1.42 docker-pycreds-0.4.0 gitdb-4.0.11 sentry-sdk-1.43.0 setproctitle-1.3.3 smmap-5.0.1 wandb-0.16.4\n"
          ]
        }
      ]
    },
    {
      "cell_type": "code",
      "metadata": {
        "id": "6DQxxGNl1E1o"
      },
      "source": [
        "def plot(x):      # Defining Plot\n",
        "    if type(x) == torch.Tensor :    # Conditional statement that whether x is a\n",
        "    # PyTorch tensor\n",
        "        x = x.cpu().detach().numpy()    # Converts a PyTorch tensor x to a\n",
        "        # Numpy array\n",
        "\n",
        "    fig, ax = plt.subplots()    # Creating a figure and an axes\n",
        "    im = ax.imshow(x, cmap = 'gray')    # axis showing x with a gray colormap\n",
        "    ax.axis('off')   # axis is turned off\n",
        "    fig.set_size_inches(5, 5)   # figure size\n",
        "    plt.show()    # Showing Plot"
      ],
      "execution_count": 4,
      "outputs": []
    },
    {
      "cell_type": "code",
      "metadata": {
        "id": "wLcWTt76COK2"
      },
      "source": [
        "def montage_plot(x):    # defining montage plot\n",
        "    x = np.pad(x, pad_width=((0, 0), (1, 1), (1, 1)), mode='constant', constant_values=0)\n",
        "    # Pads the input array \"x\" with zeros\n",
        "    plot(montage(x))    # plotting the montage plot"
      ],
      "execution_count": 5,
      "outputs": []
    },
    {
      "cell_type": "code",
      "source": [
        "b = 1000                        # Batch size or sample size\n",
        "\n",
        "def get_batch(mode):    # Defining get_batch function, which retrieves a batch\n",
        "# of data from a dataset\n",
        "    if mode == \"train\":       # Training the code\n",
        "        r = np.random.randint(X.shape[0]-b)   # Generates a random integer \"r\"\n",
        "        # between 0 and X.shape\n",
        "        x = X[r:r+b,:]    # extracting a submatrix from the NumPy array X\n",
        "        y = Y[r:r+b]      # extracting a submatrix from the NumPy array Y\n",
        "    elif mode == \"test\":      # Testing the code\n",
        "        r = np.random.randint(X_test.shape[0]-b)    # Generates a random integer\n",
        "        # \"r\" between 0 and X_test.shape\n",
        "        x = X_test[r:r+b,:] # extracting a submatrix from the NumPy array X_test\n",
        "        y = Y_test[r:r+b]   # extracting a submatrix from the NumPy array Y_test\n",
        "    return x,y      # Return fucntion for x,y"
      ],
      "metadata": {
        "id": "NZaGcRW6Igar"
      },
      "execution_count": 6,
      "outputs": []
    },
    {
      "cell_type": "markdown",
      "source": [
        "\n",
        "## MNIST\n",
        "    "
      ],
      "metadata": {
        "id": "gkw9kmV4NyRo"
      }
    },
    {
      "cell_type": "markdown",
      "source": [
        "### Load Data"
      ],
      "metadata": {
        "id": "Dc8TF76WPY1e"
      }
    },
    {
      "cell_type": "code",
      "metadata": {
        "id": "mm7ZMYrVEdMX",
        "colab": {
          "base_uri": "https://localhost:8080/"
        },
        "outputId": "9030ac88-aaa0-4e6e-dcaf-a21f57463885"
      },
      "source": [
        "# #MNIST\n",
        "train_set = MNIST('./data', train=True, download=True)  # Basically a \"Practice Test\" version of an exam for the code to run\n",
        "test_set  = MNIST('./data', train=False, download=True)  # Basically a \"Final Test\" version of an exam for the code to run\n",
        "\n",
        "#KMNIST\n",
        "# train_set = KMNIST('./data', train=True, download=True)\n",
        "# test_set =  KMNIST('./data', train=False, download=True)\n",
        "\n",
        "# Fashion MNIST\n",
        "# train_set = FashionMNIST('./data', train=True, download=True)\n",
        "# test_set =  FashionMNIST('./data', train=False, download=True)"
      ],
      "execution_count": 7,
      "outputs": [
        {
          "output_type": "stream",
          "name": "stdout",
          "text": [
            "Downloading http://yann.lecun.com/exdb/mnist/train-images-idx3-ubyte.gz\n",
            "Downloading http://yann.lecun.com/exdb/mnist/train-images-idx3-ubyte.gz to ./data/MNIST/raw/train-images-idx3-ubyte.gz\n"
          ]
        },
        {
          "output_type": "stream",
          "name": "stderr",
          "text": [
            "100%|██████████| 9912422/9912422 [00:00<00:00, 320491125.41it/s]"
          ]
        },
        {
          "output_type": "stream",
          "name": "stdout",
          "text": [
            "Extracting ./data/MNIST/raw/train-images-idx3-ubyte.gz to ./data/MNIST/raw\n"
          ]
        },
        {
          "output_type": "stream",
          "name": "stderr",
          "text": [
            "\n"
          ]
        },
        {
          "output_type": "stream",
          "name": "stdout",
          "text": [
            "\n",
            "Downloading http://yann.lecun.com/exdb/mnist/train-labels-idx1-ubyte.gz\n",
            "Downloading http://yann.lecun.com/exdb/mnist/train-labels-idx1-ubyte.gz to ./data/MNIST/raw/train-labels-idx1-ubyte.gz\n"
          ]
        },
        {
          "output_type": "stream",
          "name": "stderr",
          "text": [
            "100%|██████████| 28881/28881 [00:00<00:00, 59032989.19it/s]\n"
          ]
        },
        {
          "output_type": "stream",
          "name": "stdout",
          "text": [
            "Extracting ./data/MNIST/raw/train-labels-idx1-ubyte.gz to ./data/MNIST/raw\n",
            "\n",
            "Downloading http://yann.lecun.com/exdb/mnist/t10k-images-idx3-ubyte.gz\n",
            "Downloading http://yann.lecun.com/exdb/mnist/t10k-images-idx3-ubyte.gz to ./data/MNIST/raw/t10k-images-idx3-ubyte.gz\n"
          ]
        },
        {
          "output_type": "stream",
          "name": "stderr",
          "text": [
            "100%|██████████| 1648877/1648877 [00:00<00:00, 161529636.73it/s]"
          ]
        },
        {
          "output_type": "stream",
          "name": "stdout",
          "text": [
            "Extracting ./data/MNIST/raw/t10k-images-idx3-ubyte.gz to ./data/MNIST/raw\n",
            "\n",
            "Downloading http://yann.lecun.com/exdb/mnist/t10k-labels-idx1-ubyte.gz\n",
            "Downloading http://yann.lecun.com/exdb/mnist/t10k-labels-idx1-ubyte.gz to ./data/MNIST/raw/t10k-labels-idx1-ubyte.gz\n"
          ]
        },
        {
          "output_type": "stream",
          "name": "stderr",
          "text": [
            "\n",
            "100%|██████████| 4542/4542 [00:00<00:00, 24299143.84it/s]\n"
          ]
        },
        {
          "output_type": "stream",
          "name": "stdout",
          "text": [
            "Extracting ./data/MNIST/raw/t10k-labels-idx1-ubyte.gz to ./data/MNIST/raw\n",
            "\n"
          ]
        }
      ]
    },
    {
      "cell_type": "code",
      "metadata": {
        "id": "Ols0HivADS6a"
      },
      "source": [
        "X = train_set.data.numpy()    # Converting the train_set data to a numpy array\n",
        "# for \"X\", \"X_test\", \"Y\", and \"Y_test\"\n",
        "X_test = test_set.data.numpy()\n",
        "Y = train_set.targets.numpy()\n",
        "Y_test = test_set.targets.numpy()\n",
        "\n",
        "X = X[:,None,:,:]/255       # Inserts a new axis at index 1 of the array X, and\n",
        "# then divided by 255\n",
        "X_test = X_test[:,None,:,:]/255   # Same code as previous but with array X_test"
      ],
      "execution_count": 8,
      "outputs": []
    },
    {
      "cell_type": "code",
      "metadata": {
        "colab": {
          "base_uri": "https://localhost:8080/"
        },
        "id": "gfAjr0UBjgfs",
        "outputId": "411ca331-58f8-4f07-d043-1299b3e2400d"
      },
      "source": [
        "X.shape   # The size of X"
      ],
      "execution_count": 9,
      "outputs": [
        {
          "output_type": "execute_result",
          "data": {
            "text/plain": [
              "(60000, 1, 28, 28)"
            ]
          },
          "metadata": {},
          "execution_count": 9
        }
      ]
    },
    {
      "cell_type": "code",
      "metadata": {
        "colab": {
          "base_uri": "https://localhost:8080/",
          "height": 422
        },
        "id": "Ye809_jCAAxr",
        "outputId": "e340fa93-64a3-484d-9456-a29fea372ce2"
      },
      "source": [
        "plot(X[101,0,:,:])    # Plotting the 101st image from the array X"
      ],
      "execution_count": 10,
      "outputs": [
        {
          "output_type": "display_data",
          "data": {
            "text/plain": [
              "<Figure size 500x500 with 1 Axes>"
            ],
            "image/png": "[encoded data removed]"
          },
          "metadata": {}
        }
      ]
    },
    {
      "cell_type": "code",
      "metadata": {
        "id": "evX7gb0YBzpe",
        "colab": {
          "base_uri": "https://localhost:8080/"
        },
        "outputId": "845a3f7d-4487-42f7-afa8-90222c3ee12e"
      },
      "source": [
        "Y[100]    # Accesses the 100th element of the numpy array \"Y\""
      ],
      "execution_count": 11,
      "outputs": [
        {
          "output_type": "execute_result",
          "data": {
            "text/plain": [
              "5"
            ]
          },
          "metadata": {},
          "execution_count": 11
        }
      ]
    },
    {
      "cell_type": "code",
      "metadata": {
        "id": "b1ExpQONSaC_",
        "colab": {
          "base_uri": "https://localhost:8080/"
        },
        "outputId": "5f9f5775-51ad-42a1-d897-a8e375979bcf"
      },
      "source": [
        "X[0:25,0,:,:].shape     # The size of a slice of \"X\""
      ],
      "execution_count": 12,
      "outputs": [
        {
          "output_type": "execute_result",
          "data": {
            "text/plain": [
              "(25, 28, 28)"
            ]
          },
          "metadata": {},
          "execution_count": 12
        }
      ]
    },
    {
      "cell_type": "code",
      "metadata": {
        "id": "CHoMXjA6pWoa",
        "colab": {
          "base_uri": "https://localhost:8080/",
          "height": 422
        },
        "outputId": "d5090958-010d-44e2-d367-9ba653f15dba"
      },
      "source": [
        "montage_plot(X[125:150,0,:,:])    # Montage plot from the 125th to the 150th image\n",
        "# from the array \"X\""
      ],
      "execution_count": 13,
      "outputs": [
        {
          "output_type": "display_data",
          "data": {
            "text/plain": [
              "<Figure size 500x500 with 1 Axes>"
            ],
            "image/png": "[encoded data removed]"
          },
          "metadata": {}
        }
      ]
    },
    {
      "cell_type": "code",
      "metadata": {
        "id": "fQPM_KQpD7Qd",
        "colab": {
          "base_uri": "https://localhost:8080/"
        },
        "outputId": "63b7ef1d-a0e4-4ed5-a4a0-ab0ffa94851f"
      },
      "source": [
        "X.shape[0]    # The number of rows in \"X\""
      ],
      "execution_count": 14,
      "outputs": [
        {
          "output_type": "execute_result",
          "data": {
            "text/plain": [
              "60000"
            ]
          },
          "metadata": {},
          "execution_count": 14
        }
      ]
    },
    {
      "cell_type": "code",
      "metadata": {
        "id": "QFqBciL5EPgM",
        "colab": {
          "base_uri": "https://localhost:8080/"
        },
        "outputId": "c6d76e66-38bc-4074-dbb6-9ede7061940e"
      },
      "source": [
        "X_test.shape    # The shape of \"X_test\""
      ],
      "execution_count": 15,
      "outputs": [
        {
          "output_type": "execute_result",
          "data": {
            "text/plain": [
              "(10000, 1, 28, 28)"
            ]
          },
          "metadata": {},
          "execution_count": 15
        }
      ]
    },
    {
      "cell_type": "code",
      "metadata": {
        "id": "_eAq9FpWES_1",
        "colab": {
          "base_uri": "https://localhost:8080/"
        },
        "outputId": "4c8bc1cd-452e-4ac0-e3aa-280835be38d0"
      },
      "source": [
        "X.shape[0]    # The number of rows of \"X\""
      ],
      "execution_count": 16,
      "outputs": [
        {
          "output_type": "execute_result",
          "data": {
            "text/plain": [
              "60000"
            ]
          },
          "metadata": {},
          "execution_count": 16
        }
      ]
    },
    {
      "cell_type": "code",
      "metadata": {
        "id": "zjqCYVv7EX1d",
        "colab": {
          "base_uri": "https://localhost:8080/"
        },
        "outputId": "84bafbdf-2850-47c0-d3f4-75d211db88f2"
      },
      "source": [
        "X_test.shape[0]   # The number of rows of \"X_test\""
      ],
      "execution_count": 17,
      "outputs": [
        {
          "output_type": "execute_result",
          "data": {
            "text/plain": [
              "10000"
            ]
          },
          "metadata": {},
          "execution_count": 17
        }
      ]
    },
    {
      "cell_type": "code",
      "source": [
        "def GPU(data):    # Defining GPU data\n",
        "    return torch.tensor(data, requires_grad=True, dtype=torch.float, device=torch.device('cuda'))\n",
        "    # Return function that creates a pytorch tensor from the input data and moves\n",
        "    # it to the GPU, will be tracked for gradient calculations\n",
        "\n",
        "def GPU_data(data): # Defining GPU_data data\n",
        "    return torch.tensor(data, requires_grad=False, dtype=torch.float, device=torch.device('cuda'))\n",
        "    # Similar return function to GPU data's return, but will not be tracked for\n",
        "    # gradient calculations"
      ],
      "metadata": {
        "id": "PyV8c4cyPAWp"
      },
      "execution_count": 18,
      "outputs": []
    },
    {
      "cell_type": "code",
      "metadata": {
        "id": "zBt4rsdIefV_"
      },
      "source": [
        "X = GPU_data(X)   # X data of GPU data assigned to \"X\"\n",
        "Y = GPU_data(Y)   # Y data of GPU data assigned to \"Y\"\n",
        "X_test = GPU_data(X_test)   # X_test of GPU data is assigned to X_test\n",
        "Y_test = GPU_data(Y_test)   # Y_test of GPU data is assigned to Y_test"
      ],
      "execution_count": 19,
      "outputs": []
    },
    {
      "cell_type": "code",
      "source": [
        "X = X.reshape(X.shape[0],784)   # Reshaping the numpy array X to have X.shape[0]\n",
        "# rows and 784 columns\n",
        "X_test = X_test.reshape(X_test.shape[0],784)    # Reshaping the numpy array X_test\n",
        "# to have X_test.shape[0] rows and 784 columns"
      ],
      "metadata": {
        "id": "qd6QY2wJ3DPk"
      },
      "execution_count": 20,
      "outputs": []
    },
    {
      "cell_type": "code",
      "source": [],
      "metadata": {
        "id": "MKUw3_YO39T5"
      },
      "execution_count": 20,
      "outputs": []
    },
    {
      "cell_type": "markdown",
      "source": [
        "\n",
        "### Classifier\n"
      ],
      "metadata": {
        "id": "aqdMV6v-2o3h"
      }
    },
    {
      "cell_type": "code",
      "metadata": {
        "id": "OqMKS4LqeBzy"
      },
      "source": [
        "x,y = get_batch('train')    # Returning a batch of data from the training dataset"
      ],
      "execution_count": 21,
      "outputs": []
    },
    {
      "cell_type": "code",
      "metadata": {
        "id": "NvewlRZCeB20",
        "colab": {
          "base_uri": "https://localhost:8080/"
        },
        "outputId": "5ad9772e-d948-40f0-cae3-e7b005384d3b"
      },
      "source": [
        "x.shape   # The Shape of \"x\""
      ],
      "execution_count": 22,
      "outputs": [
        {
          "output_type": "execute_result",
          "data": {
            "text/plain": [
              "torch.Size([1000, 784])"
            ]
          },
          "metadata": {},
          "execution_count": 22
        }
      ]
    },
    {
      "cell_type": "code",
      "metadata": {
        "id": "Dfywj66KFh8Y",
        "colab": {
          "base_uri": "https://localhost:8080/",
          "height": 422
        },
        "outputId": "3c5e3153-a172-48ac-98a9-e0d528bf017b"
      },
      "source": [
        "plot(x[0].reshape(28,28))   # Plotting the first image of a x reshape function"
      ],
      "execution_count": 23,
      "outputs": [
        {
          "output_type": "display_data",
          "data": {
            "text/plain": [
              "<Figure size 500x500 with 1 Axes>"
            ],
            "image/png": "[encoded data removed]"
          },
          "metadata": {}
        }
      ]
    },
    {
      "cell_type": "code",
      "metadata": {
        "id": "ZsAhw-64HNJX",
        "colab": {
          "base_uri": "https://localhost:8080/",
          "height": 422
        },
        "outputId": "44bd6683-92dc-44ff-fc22-3604c1bbab92"
      },
      "source": [
        "plot(x[1].reshape(28,28))   # Plotting the second image of the x reshape function"
      ],
      "execution_count": 24,
      "outputs": [
        {
          "output_type": "display_data",
          "data": {
            "text/plain": [
              "<Figure size 500x500 with 1 Axes>"
            ],
            "image/png": "[encoded data removed]"
          },
          "metadata": {}
        }
      ]
    },
    {
      "cell_type": "code",
      "metadata": {
        "id": "JfIkv97VHRaH",
        "colab": {
          "base_uri": "https://localhost:8080/",
          "height": 422
        },
        "outputId": "70991bc9-c154-4496-8732-e24cc6a85b8b"
      },
      "source": [
        "plot(x[2].reshape(28,28))   # Plotting the third image of the x reshape fucntion"
      ],
      "execution_count": 25,
      "outputs": [
        {
          "output_type": "display_data",
          "data": {
            "text/plain": [
              "<Figure size 500x500 with 1 Axes>"
            ],
            "image/png": "[encoded data removed]"
          },
          "metadata": {}
        }
      ]
    },
    {
      "cell_type": "code",
      "metadata": {
        "id": "hTYYsbmzGZzq",
        "colab": {
          "base_uri": "https://localhost:8080/"
        },
        "outputId": "2401f979-5475-42f6-91c6-c0a35102d254"
      },
      "source": [
        "y[:10]    # Showing the first ten elements of the array \"y\""
      ],
      "execution_count": 26,
      "outputs": [
        {
          "output_type": "execute_result",
          "data": {
            "text/plain": [
              "tensor([2., 0., 3., 7., 2., 4., 9., 7., 8., 8.], device='cuda:0')"
            ]
          },
          "metadata": {},
          "execution_count": 26
        }
      ]
    },
    {
      "cell_type": "code",
      "source": [
        "W = GPU(np.random.randn(784,10))      # Creating a tensor called \"W\" on the GPU\n",
        "# with a set of random numbers"
      ],
      "metadata": {
        "id": "G1MmJuRKC20Q"
      },
      "execution_count": 27,
      "outputs": []
    },
    {
      "cell_type": "code",
      "source": [],
      "metadata": {
        "id": "lwMdXtr_4R0q"
      },
      "execution_count": 27,
      "outputs": []
    },
    {
      "cell_type": "code",
      "metadata": {
        "id": "xNugjEScFiCC",
        "colab": {
          "base_uri": "https://localhost:8080/"
        },
        "outputId": "bc9a7c47-2f2d-4ba1-9b0f-80f7faa30ebf"
      },
      "source": [
        "x.shape, W.shape          # The shape of \"x\" and \"W\""
      ],
      "execution_count": 28,
      "outputs": [
        {
          "output_type": "execute_result",
          "data": {
            "text/plain": [
              "(torch.Size([1000, 784]), torch.Size([784, 10]))"
            ]
          },
          "metadata": {},
          "execution_count": 28
        }
      ]
    },
    {
      "cell_type": "code",
      "metadata": {
        "id": "2fKhesUrFrYo",
        "colab": {
          "base_uri": "https://localhost:8080/"
        },
        "outputId": "deb1f8ae-43b3-4cee-ace5-5b01c9c9e5b1"
      },
      "source": [
        "torch.matmul(x,W).shape   #The shape of the matrix mulitplication of \"x\" and \"W\""
      ],
      "execution_count": 29,
      "outputs": [
        {
          "output_type": "execute_result",
          "data": {
            "text/plain": [
              "torch.Size([1000, 10])"
            ]
          },
          "metadata": {},
          "execution_count": 29
        }
      ]
    },
    {
      "cell_type": "code",
      "metadata": {
        "id": "vXUJJil7VyS_",
        "colab": {
          "base_uri": "https://localhost:8080/"
        },
        "outputId": "3490e0e9-f26b-43e8-d227-bd9805e5a5b8"
      },
      "source": [
        "(x@W).shape   # Same code as previous line but using the \"@\" symbol insetad of\n",
        "# using \"torch.matul\""
      ],
      "execution_count": 30,
      "outputs": [
        {
          "output_type": "execute_result",
          "data": {
            "text/plain": [
              "torch.Size([1000, 10])"
            ]
          },
          "metadata": {},
          "execution_count": 30
        }
      ]
    },
    {
      "cell_type": "code",
      "metadata": {
        "id": "CCUIYKR-Il3c",
        "colab": {
          "base_uri": "https://localhost:8080/"
        },
        "outputId": "be51e331-1b15-4ec1-c5a2-0f2cb1cf0bf1"
      },
      "source": [
        "%%timeit\n",
        "x@W                       #How long doe it take to upload the answer"
      ],
      "execution_count": 31,
      "outputs": [
        {
          "output_type": "stream",
          "name": "stdout",
          "text": [
            "21.9 µs ± 1.63 µs per loop (mean ± std. dev. of 7 runs, 10000 loops each)\n"
          ]
        }
      ]
    },
    {
      "cell_type": "code",
      "metadata": {
        "id": "GlQwtdaSeB5S",
        "colab": {
          "base_uri": "https://localhost:8080/"
        },
        "outputId": "a99d1627-e64d-4d32-f749-24e615601ec7"
      },
      "source": [
        "x@W           #The answer to \"x@W\""
      ],
      "execution_count": 32,
      "outputs": [
        {
          "output_type": "execute_result",
          "data": {
            "text/plain": [
              "tensor([[-10.6356,  -2.8402,   9.0807,  ...,   5.7140,  -2.8623,  -5.8540],\n",
              "        [ -2.7105, -10.9842,   3.2825,  ...,  -0.4946,  -2.9488,   2.6346],\n",
              "        [  7.0332,   2.2626,   1.0062,  ...,   6.8751,  12.3935,  -5.9277],\n",
              "        ...,\n",
              "        [ -0.0829,  -4.4159, -11.5855,  ...,   1.5019,  12.3787,  -4.8368],\n",
              "        [  1.0261,   3.4247,   3.4977,  ...,   5.2676,  -5.0827,  -2.3328],\n",
              "        [ 12.3862,   0.4355,  -6.4594,  ...,  -6.3987,  -5.7216,   2.1723]],\n",
              "       device='cuda:0', grad_fn=<MmBackward0>)"
            ]
          },
          "metadata": {},
          "execution_count": 32
        }
      ]
    },
    {
      "cell_type": "code",
      "metadata": {
        "id": "E2hgdUkmeB8W"
      },
      "source": [
        "y2 = x@W    #\"y2\" is being displayed as the matrix multiplication of \"x\" and \"W\""
      ],
      "execution_count": 33,
      "outputs": []
    },
    {
      "cell_type": "code",
      "metadata": {
        "id": "ZdZImnZFGeT6",
        "colab": {
          "base_uri": "https://localhost:8080/",
          "height": 422
        },
        "outputId": "0aac6f91-7820-43c1-ac63-bf627c295cd2"
      },
      "source": [
        "plot(y2[:50])   # Plotting the first fifty elements of \"y2\""
      ],
      "execution_count": 34,
      "outputs": [
        {
          "output_type": "display_data",
          "data": {
            "text/plain": [
              "<Figure size 500x500 with 1 Axes>"
            ],
            "image/png": "[encoded data removed]"
          },
          "metadata": {}
        }
      ]
    },
    {
      "cell_type": "code",
      "metadata": {
        "id": "eQSssyK-GoB2",
        "colab": {
          "base_uri": "https://localhost:8080/"
        },
        "outputId": "d83a2bfc-d4f7-42ff-afd1-e8aaea5f371c"
      },
      "source": [
        "y   # The result of \"y\""
      ],
      "execution_count": 35,
      "outputs": [
        {
          "output_type": "execute_result",
          "data": {
            "text/plain": [
              "tensor([2., 0., 3., 7., 2., 4., 9., 7., 8., 8., 5., 4., 2., 9., 6., 2., 2., 1.,\n",
              "        4., 9., 8., 2., 4., 2., 6., 3., 5., 1., 0., 4., 1., 3., 2., 0., 3., 5.,\n",
              "        4., 9., 5., 3., 6., 1., 7., 5., 8., 9., 9., 5., 0., 4., 1., 4., 2., 6.,\n",
              "        3., 4., 4., 9., 5., 7., 6., 1., 7., 6., 8., 6., 9., 7., 0., 0., 3., 2.,\n",
              "        4., 9., 5., 2., 6., 7., 7., 3., 8., 8., 9., 2., 9., 0., 7., 0., 5., 7.,\n",
              "        2., 3., 9., 8., 0., 3., 1., 3., 5., 3., 8., 7., 8., 3., 0., 5., 9., 3.,\n",
              "        3., 9., 2., 5., 7., 1., 8., 0., 4., 5., 4., 2., 5., 7., 9., 3., 6., 8.,\n",
              "        1., 4., 0., 3., 4., 1., 5., 8., 3., 0., 9., 7., 4., 2., 2., 8., 0., 5.,\n",
              "        5., 1., 0., 9., 1., 8., 6., 3., 9., 2., 3., 3., 2., 0., 9., 6., 1., 5.,\n",
              "        6., 6., 0., 0., 1., 8., 1., 6., 8., 4., 0., 4., 4., 0., 7., 4., 7., 3.,\n",
              "        6., 9., 0., 7., 7., 1., 3., 7., 5., 8., 4., 2., 2., 2., 4., 1., 1., 3.,\n",
              "        8., 1., 3., 4., 5., 6., 6., 8., 7., 5., 0., 9., 6., 2., 7., 2., 1., 1.,\n",
              "        2., 5., 5., 6., 8., 8., 1., 9., 9., 2., 3., 5., 8., 3., 2., 1., 8., 8.,\n",
              "        8., 1., 7., 2., 1., 7., 7., 8., 9., 1., 2., 7., 0., 6., 1., 1., 2., 7.,\n",
              "        3., 7., 4., 7., 5., 9., 6., 2., 7., 7., 8., 4., 9., 0., 0., 5., 1., 4.,\n",
              "        2., 8., 3., 7., 4., 2., 5., 7., 6., 3., 7., 7., 8., 7., 9., 6., 0., 8.,\n",
              "        1., 7., 2., 9., 3., 2., 4., 6., 5., 4., 6., 7., 7., 5., 8., 0., 9., 1.,\n",
              "        2., 7., 5., 8., 1., 5., 6., 7., 4., 9., 3., 0., 9., 6., 9., 0., 0., 6.,\n",
              "        9., 1., 7., 3., 1., 2., 6., 5., 4., 2., 3., 2., 6., 3., 2., 6., 2., 5.,\n",
              "        0., 1., 0., 1., 8., 3., 2., 2., 5., 4., 9., 5., 8., 3., 6., 1., 5., 3.,\n",
              "        7., 6., 0., 8., 0., 3., 4., 0., 1., 7., 7., 0., 4., 3., 3., 3., 2., 9.,\n",
              "        2., 1., 4., 3., 7., 1., 6., 2., 4., 5., 7., 1., 7., 3., 7., 3., 2., 7.,\n",
              "        0., 6., 9., 1., 8., 9., 5., 8., 6., 5., 4., 5., 3., 5., 8., 9., 2., 2.,\n",
              "        8., 4., 3., 6., 8., 7., 9., 8., 5., 8., 8., 9., 0., 7., 5., 4., 4., 8.,\n",
              "        7., 8., 1., 0., 3., 8., 1., 5., 7., 7., 9., 9., 6., 2., 2., 8., 0., 9.,\n",
              "        9., 3., 1., 0., 7., 0., 3., 8., 8., 5., 0., 3., 3., 6., 9., 2., 1., 5.,\n",
              "        6., 1., 4., 6., 3., 5., 2., 2., 1., 1., 8., 8., 6., 6., 1., 7., 5., 6.,\n",
              "        5., 8., 6., 2., 5., 6., 0., 6., 1., 9., 2., 7., 3., 4., 4., 0., 5., 4.,\n",
              "        6., 8., 7., 4., 8., 0., 9., 4., 0., 4., 1., 1., 2., 7., 3., 6., 4., 4.,\n",
              "        5., 0., 6., 4., 7., 7., 8., 2., 0., 2., 1., 4., 2., 4., 3., 5., 4., 6.,\n",
              "        5., 2., 6., 3., 7., 6., 8., 5., 2., 9., 5., 1., 1., 3., 6., 8., 4., 3.,\n",
              "        3., 9., 9., 0., 9., 1., 0., 3., 9., 6., 7., 3., 1., 3., 6., 2., 4., 5.,\n",
              "        3., 6., 6., 5., 2., 6., 2., 1., 0., 7., 8., 4., 2., 8., 5., 8., 9., 6.,\n",
              "        8., 5., 6., 8., 5., 4., 0., 3., 4., 1., 1., 0., 7., 1., 4., 7., 3., 0.,\n",
              "        4., 1., 1., 5., 3., 9., 7., 6., 4., 7., 7., 8., 7., 6., 0., 0., 9., 3.,\n",
              "        8., 4., 5., 9., 6., 6., 4., 9., 3., 4., 8., 6., 2., 6., 8., 1., 3., 5.,\n",
              "        8., 9., 9., 6., 5., 8., 8., 4., 4., 3., 3., 2., 1., 3., 7., 1., 9., 5.,\n",
              "        6., 2., 2., 1., 7., 5., 3., 7., 3., 5., 9., 0., 1., 5., 4., 3., 3., 1.,\n",
              "        9., 9., 8., 8., 2., 1., 1., 9., 8., 2., 6., 7., 4., 7., 5., 6., 1., 7.,\n",
              "        5., 6., 5., 2., 6., 1., 5., 9., 0., 4., 1., 9., 2., 3., 3., 2., 4., 5.,\n",
              "        7., 6., 8., 8., 9., 2., 0., 8., 1., 9., 2., 4., 3., 0., 4., 1., 5., 5.,\n",
              "        6., 7., 7., 2., 8., 1., 9., 8., 0., 8., 1., 2., 2., 2., 3., 2., 5., 5.,\n",
              "        6., 4., 7., 7., 8., 9., 9., 9., 3., 6., 5., 3., 3., 9., 2., 1., 9., 2.,\n",
              "        3., 8., 2., 2., 1., 8., 4., 5., 3., 0., 2., 7., 1., 9., 3., 7., 9., 6.,\n",
              "        7., 8., 2., 9., 1., 7., 2., 8., 8., 3., 9., 4., 1., 4., 8., 6., 8., 1.,\n",
              "        7., 7., 0., 6., 0., 9., 7., 9., 7., 9., 8., 3., 7., 7., 6., 7., 1., 4.,\n",
              "        4., 8., 6., 0., 1., 4., 2., 5., 5., 8., 0., 6., 0., 3., 3., 8., 8., 5.,\n",
              "        4., 1., 4., 9., 1., 3., 8., 4., 6., 7., 5., 8., 9., 0., 0., 3., 0., 2.,\n",
              "        0., 9., 3., 8., 7., 9., 1., 1., 6., 2., 2., 0., 6., 3., 6., 1., 0., 9.,\n",
              "        4., 1., 5., 8., 4., 2., 1., 7., 3., 9., 8., 2., 6., 2., 3., 7., 9., 0.,\n",
              "        9., 8., 5., 3., 7., 5., 8., 9., 5., 9., 6., 1., 4., 5., 7., 9., 6., 5.,\n",
              "        2., 3., 2., 9., 0., 8., 9., 9., 4., 9., 0., 0., 1., 3., 2., 3., 3., 1.,\n",
              "        4., 1., 7., 0., 8., 7., 9., 9., 0., 1., 1., 9., 2., 7., 3., 4., 4., 2.,\n",
              "        5., 8., 6., 3., 7., 0., 8., 7., 0., 7., 1., 6., 7., 4., 8., 6., 9., 8.,\n",
              "        6., 9., 9., 0., 6., 6., 1., 7., 9., 6., 9., 9., 9., 4., 8., 4., 1., 2.,\n",
              "        4., 2., 1., 0., 2., 0., 9., 2., 5., 4.], device='cuda:0')"
            ]
          },
          "metadata": {},
          "execution_count": 35
        }
      ]
    },
    {
      "cell_type": "code",
      "source": [
        "y.shape   # The shape of \"y\""
      ],
      "metadata": {
        "id": "asy5jw0oy_F7",
        "colab": {
          "base_uri": "https://localhost:8080/"
        },
        "outputId": "3084d928-644e-483d-e5cf-84e952cce59e"
      },
      "execution_count": 36,
      "outputs": [
        {
          "output_type": "execute_result",
          "data": {
            "text/plain": [
              "torch.Size([1000])"
            ]
          },
          "metadata": {},
          "execution_count": 36
        }
      ]
    },
    {
      "cell_type": "code",
      "source": [
        "def one_hot(y):   # defining \"one_hot\", which is converting a list of arrays into\n",
        "# a one-hot encoded matrix\n",
        "    y2 = GPU_data(torch.zeros((y.shape[0],10)))   # Creating a tensor on the GPU\n",
        "    # filled with zeros\n",
        "    for i in range(y.shape[0]):   # iterating the rows of the tensor \"y\"\n",
        "        y2[i,int(y[i])] = 1   # \"y2\" is being set to the row of i and the column\n",
        "        # of 1\n",
        "    return y2     # Return function of \"y2\""
      ],
      "metadata": {
        "id": "BEgs4-skzhTC"
      },
      "execution_count": 37,
      "outputs": []
    },
    {
      "cell_type": "code",
      "metadata": {
        "id": "EB2kNOUHGpIw",
        "colab": {
          "base_uri": "https://localhost:8080/"
        },
        "outputId": "69a55e5c-91c5-4d5c-8af8-deb09c623475"
      },
      "source": [
        "one_hot(y)            #Choosing the largest selection (What is the hottest one)"
      ],
      "execution_count": 38,
      "outputs": [
        {
          "output_type": "stream",
          "name": "stderr",
          "text": [
            "<ipython-input-18-656cd86329c5>:7: UserWarning: To copy construct from a tensor, it is recommended to use sourceTensor.clone().detach() or sourceTensor.clone().detach().requires_grad_(True), rather than torch.tensor(sourceTensor).\n",
            "  return torch.tensor(data, requires_grad=False, dtype=torch.float, device=torch.device('cuda'))\n"
          ]
        },
        {
          "output_type": "execute_result",
          "data": {
            "text/plain": [
              "tensor([[0., 0., 1.,  ..., 0., 0., 0.],\n",
              "        [1., 0., 0.,  ..., 0., 0., 0.],\n",
              "        [0., 0., 0.,  ..., 0., 0., 0.],\n",
              "        ...,\n",
              "        [0., 0., 1.,  ..., 0., 0., 0.],\n",
              "        [0., 0., 0.,  ..., 0., 0., 0.],\n",
              "        [0., 0., 0.,  ..., 0., 0., 0.]], device='cuda:0')"
            ]
          },
          "metadata": {},
          "execution_count": 38
        }
      ]
    },
    {
      "cell_type": "code",
      "metadata": {
        "id": "v91JZyTQeCMp",
        "colab": {
          "base_uri": "https://localhost:8080/"
        },
        "outputId": "41e2ec07-4a09-430c-b48d-6169b785ae2d"
      },
      "source": [
        "torch.argmax(y2,1)    # Finds the index of the maximum value along each row of \"y2\""
      ],
      "execution_count": 39,
      "outputs": [
        {
          "output_type": "execute_result",
          "data": {
            "text/plain": [
              "tensor([2, 6, 8, 3, 6, 5, 8, 8, 8, 7, 8, 2, 2, 2, 2, 8, 6, 8, 2, 8, 9, 9, 2, 9,\n",
              "        2, 8, 2, 9, 7, 2, 8, 7, 7, 6, 6, 0, 2, 2, 1, 8, 7, 8, 2, 0, 8, 0, 2, 0,\n",
              "        2, 6, 2, 9, 7, 5, 9, 9, 2, 8, 0, 0, 7, 9, 2, 8, 8, 7, 2, 0, 2, 2, 0, 6,\n",
              "        2, 0, 0, 6, 2, 6, 8, 9, 8, 8, 8, 7, 8, 5, 8, 6, 0, 5, 9, 8, 8, 8, 2, 9,\n",
              "        2, 8, 1, 8, 8, 0, 8, 9, 6, 6, 8, 9, 0, 9, 2, 6, 8, 8, 8, 6, 2, 6, 8, 9,\n",
              "        0, 8, 2, 6, 7, 2, 2, 0, 2, 1, 2, 1, 0, 6, 6, 6, 2, 0, 8, 9, 2, 6, 6, 0,\n",
              "        0, 9, 2, 0, 2, 8, 7, 9, 2, 2, 0, 8, 7, 7, 2, 2, 6, 2, 3, 9, 2, 2, 2, 0,\n",
              "        2, 7, 8, 9, 1, 7, 6, 0, 2, 2, 2, 8, 7, 0, 2, 9, 2, 8, 8, 9, 8, 0, 8, 2,\n",
              "        6, 9, 6, 0, 2, 9, 8, 2, 1, 0, 0, 8, 7, 9, 2, 0, 2, 2, 7, 2, 2, 6, 6, 1,\n",
              "        2, 8, 0, 7, 0, 9, 2, 0, 8, 9, 7, 1, 8, 1, 7, 9, 8, 9, 8, 8, 2, 6, 8, 0,\n",
              "        5, 6, 2, 8, 7, 2, 8, 7, 8, 8, 8, 0, 0, 0, 8, 0, 0, 5, 2, 6, 2, 9, 8, 6,\n",
              "        2, 2, 2, 6, 2, 8, 5, 9, 0, 0, 2, 7, 7, 8, 6, 9, 2, 8, 8, 9, 0, 2, 2, 7,\n",
              "        2, 8, 1, 0, 8, 2, 2, 6, 2, 0, 7, 2, 2, 6, 8, 6, 2, 9, 6, 9, 0, 9, 2, 6,\n",
              "        7, 8, 8, 2, 6, 6, 2, 1, 2, 6, 2, 6, 5, 1, 2, 9, 2, 6, 6, 2, 2, 2, 6, 7,\n",
              "        7, 8, 8, 7, 6, 8, 6, 1, 6, 9, 8, 9, 7, 9, 8, 9, 2, 1, 8, 9, 2, 8, 0, 2,\n",
              "        2, 6, 2, 9, 2, 1, 6, 6, 2, 0, 8, 1, 8, 9, 7, 8, 2, 2, 0, 1, 2, 0, 2, 8,\n",
              "        7, 6, 2, 6, 8, 1, 2, 1, 2, 0, 7, 2, 2, 6, 2, 1, 8, 0, 0, 9, 7, 9, 2, 6,\n",
              "        8, 6, 8, 0, 6, 9, 8, 0, 0, 9, 8, 2, 8, 9, 0, 8, 8, 6, 6, 0, 6, 8, 2, 9,\n",
              "        2, 8, 6, 9, 2, 9, 2, 6, 2, 0, 2, 5, 7, 7, 8, 8, 6, 2, 2, 9, 8, 6, 2, 6,\n",
              "        0, 6, 1, 6, 6, 8, 0, 9, 2, 6, 2, 8, 7, 1, 2, 7, 7, 6, 6, 2, 2, 1, 8, 8,\n",
              "        7, 7, 8, 2, 2, 7, 8, 1, 8, 9, 2, 7, 0, 8, 1, 5, 2, 2, 8, 3, 2, 6, 8, 7,\n",
              "        7, 0, 8, 5, 8, 9, 2, 9, 6, 9, 1, 8, 2, 6, 9, 7, 2, 9, 6, 6, 7, 5, 8, 1,\n",
              "        8, 2, 6, 9, 2, 9, 2, 2, 0, 8, 8, 8, 8, 9, 2, 9, 8, 0, 8, 9, 7, 2, 8, 1,\n",
              "        2, 0, 6, 9, 2, 9, 7, 0, 2, 6, 2, 1, 2, 9, 4, 2, 8, 8, 2, 9, 2, 8, 6, 0,\n",
              "        0, 6, 7, 9, 7, 8, 7, 1, 6, 0, 8, 7, 6, 0, 2, 7, 0, 6, 8, 0, 7, 8, 2, 3,\n",
              "        6, 8, 8, 1, 8, 7, 8, 0, 2, 9, 9, 9, 2, 9, 1, 2, 9, 0, 8, 6, 8, 9, 2, 8,\n",
              "        8, 7, 6, 8, 0, 8, 1, 6, 8, 0, 7, 0, 8, 0, 9, 8, 9, 5, 7, 6, 8, 0, 8, 2,\n",
              "        8, 2, 8, 6, 8, 8, 8, 9, 6, 9, 8, 8, 6, 9, 8, 1, 7, 2, 6, 4, 7, 1, 2, 0,\n",
              "        6, 0, 8, 6, 8, 7, 9, 0, 2, 9, 7, 1, 0, 2, 8, 5, 7, 9, 8, 0, 8, 9, 2, 5,\n",
              "        2, 0, 8, 8, 8, 0, 8, 6, 8, 9, 7, 1, 8, 8, 8, 7, 8, 2, 0, 9, 8, 0, 8, 9,\n",
              "        2, 2, 8, 9, 6, 7, 8, 2, 6, 0, 4, 2, 5, 6, 2, 1, 6, 8, 2, 8, 8, 8, 2, 8,\n",
              "        2, 8, 0, 2, 2, 6, 2, 8, 0, 2, 6, 2, 7, 8, 2, 2, 8, 7, 8, 7, 0, 7, 0, 1,\n",
              "        8, 9, 5, 8, 2, 1, 7, 9, 2, 9, 8, 1, 8, 0, 7, 6, 6, 8, 8, 5, 8, 2, 2, 0,\n",
              "        8, 8, 2, 2, 5, 0, 7, 6, 8, 4, 7, 8, 8, 8, 8, 4, 8, 8, 8, 8, 6, 7, 6, 9,\n",
              "        0, 0, 8, 9, 8, 9, 8, 5, 7, 0, 8, 7, 2, 4, 2, 6, 2, 9, 2, 0, 8, 8, 6, 6,\n",
              "        2, 0, 2, 9, 1, 9, 6, 1, 7, 8, 8, 9, 8, 9, 2, 8, 8, 8, 6, 6, 2, 8, 2, 9,\n",
              "        8, 7, 0, 2, 2, 0, 8, 8, 2, 8, 5, 2, 0, 9, 7, 8, 2, 7, 2, 1, 9, 7, 0, 6,\n",
              "        8, 2, 9, 5, 2, 7, 7, 2, 0, 5, 7, 0, 2, 9, 6, 9, 8, 1, 2, 7, 2, 2, 7, 1,\n",
              "        7, 0, 8, 7, 2, 8, 2, 9, 9, 1, 6, 8, 2, 0, 2, 0, 2, 2, 8, 0, 7, 9, 0, 8,\n",
              "        8, 8, 2, 2, 8, 2, 6, 9, 2, 8, 1, 9, 2, 0, 0, 9, 7, 0, 2, 9, 2, 8, 2, 6,\n",
              "        8, 8, 6, 8, 1, 6, 3, 8, 8, 0, 2, 2, 4, 0, 6, 2, 4, 3, 6, 8, 2, 8, 2, 9,\n",
              "        2, 9, 2, 9, 2, 5, 7, 9, 6, 9, 2, 8, 2, 8, 7, 0], device='cuda:0')"
            ]
          },
          "metadata": {},
          "execution_count": 39
        }
      ]
    },
    {
      "cell_type": "code",
      "metadata": {
        "id": "0hfl1lKrguTg",
        "colab": {
          "base_uri": "https://localhost:8080/"
        },
        "outputId": "20ac091c-c4ee-4ec6-e8a5-d754293959ad"
      },
      "source": [
        "torch.sum(y == torch.argmax(y2,1))/b          # \"Average score\" of guessing the questions, in a sense"
      ],
      "execution_count": 40,
      "outputs": [
        {
          "output_type": "execute_result",
          "data": {
            "text/plain": [
              "tensor(0.1360, device='cuda:0')"
            ]
          },
          "metadata": {},
          "execution_count": 40
        }
      ]
    },
    {
      "cell_type": "code",
      "metadata": {
        "id": "xz7Ea13HwarC",
        "colab": {
          "base_uri": "https://localhost:8080/"
        },
        "outputId": "ec2687bb-5a82-40ef-dbc1-c6eed4b052d8"
      },
      "source": [
        "X.shape         # The shape of \"X\""
      ],
      "execution_count": 41,
      "outputs": [
        {
          "output_type": "execute_result",
          "data": {
            "text/plain": [
              "torch.Size([60000, 784])"
            ]
          },
          "metadata": {},
          "execution_count": 41
        }
      ]
    },
    {
      "cell_type": "code",
      "metadata": {
        "id": "FNP2ahywwatJ",
        "colab": {
          "base_uri": "https://localhost:8080/"
        },
        "outputId": "a26cbb96-7615-46a3-d964-07501757ffdc"
      },
      "source": [
        "X@W   # The multiplication matrix of \"X\" and \"W\""
      ],
      "execution_count": 42,
      "outputs": [
        {
          "output_type": "execute_result",
          "data": {
            "text/plain": [
              "tensor([[ 10.5196,  -0.0736,   2.6711,  ...,   2.8419,  -4.2660,  -5.3325],\n",
              "        [  6.0991,  -1.3923,   3.1523,  ...,  -3.3613,  -1.0031,  -7.1127],\n",
              "        [  7.4736,   0.9303,  -2.3490,  ..., -10.8738,  -5.5657,  10.8925],\n",
              "        ...,\n",
              "        [  7.0208,   3.6649,  -1.1042,  ...,  -4.1298,   8.9220,  -8.7824],\n",
              "        [ -7.8311, -12.1302,   4.4197,  ...,   6.3656,  -2.7223, -13.5976],\n",
              "        [ -0.7848,  -5.1902,   8.8281,  ...,   1.9810,   8.9958,  -3.2451]],\n",
              "       device='cuda:0', grad_fn=<MmBackward0>)"
            ]
          },
          "metadata": {},
          "execution_count": 42
        }
      ]
    },
    {
      "cell_type": "code",
      "metadata": {
        "id": "WbGDRj7BwavA",
        "colab": {
          "base_uri": "https://localhost:8080/"
        },
        "outputId": "7d33913f-7f27-4ab7-b92c-2cdab0de0bb4"
      },
      "source": [
        "torch.argmax(X@W,1)   # Finding the maximum value along each row of the matrix of\n",
        "# \"X@W\""
      ],
      "execution_count": 43,
      "outputs": [
        {
          "output_type": "execute_result",
          "data": {
            "text/plain": [
              "tensor([0, 0, 9,  ..., 8, 7, 8], device='cuda:0')"
            ]
          },
          "metadata": {},
          "execution_count": 43
        }
      ]
    },
    {
      "cell_type": "code",
      "metadata": {
        "id": "EXTb4Y4ywaw3",
        "colab": {
          "base_uri": "https://localhost:8080/"
        },
        "outputId": "eb6b09df-39fd-426d-9c6f-7f58765ed323"
      },
      "source": [
        "Y   # The result of \"Y\""
      ],
      "execution_count": 44,
      "outputs": [
        {
          "output_type": "execute_result",
          "data": {
            "text/plain": [
              "tensor([5., 0., 4.,  ..., 5., 6., 8.], device='cuda:0')"
            ]
          },
          "metadata": {},
          "execution_count": 44
        }
      ]
    },
    {
      "cell_type": "code",
      "metadata": {
        "id": "h_w3ksHVjQwu",
        "colab": {
          "base_uri": "https://localhost:8080/"
        },
        "outputId": "6cc88f84-4a36-4cd2-d51e-3a309d9e8500"
      },
      "source": [
        "torch.sum(torch.argmax(X@W,1) == Y)/60000     # Calculating the accuracy of the\n",
        "# predictions made by the matrix multiplication of \"X\" and \"W\" and divided by the\n",
        "# number of samples"
      ],
      "execution_count": 45,
      "outputs": [
        {
          "output_type": "execute_result",
          "data": {
            "text/plain": [
              "tensor(0.1456, device='cuda:0')"
            ]
          },
          "metadata": {},
          "execution_count": 45
        }
      ]
    },
    {
      "cell_type": "code",
      "metadata": {
        "id": "n6RKfzVLnOTD",
        "colab": {
          "base_uri": "https://localhost:8080/"
        },
        "outputId": "1e4a1f96-523e-4f8d-ebb2-abeafd19bd36"
      },
      "source": [
        "X@W   # The result of the mulitplication matrix of \"X@W\""
      ],
      "execution_count": 46,
      "outputs": [
        {
          "output_type": "execute_result",
          "data": {
            "text/plain": [
              "tensor([[ 10.5196,  -0.0736,   2.6711,  ...,   2.8419,  -4.2660,  -5.3325],\n",
              "        [  6.0991,  -1.3923,   3.1523,  ...,  -3.3613,  -1.0031,  -7.1127],\n",
              "        [  7.4736,   0.9303,  -2.3490,  ..., -10.8738,  -5.5657,  10.8925],\n",
              "        ...,\n",
              "        [  7.0208,   3.6649,  -1.1042,  ...,  -4.1298,   8.9220,  -8.7824],\n",
              "        [ -7.8311, -12.1302,   4.4197,  ...,   6.3656,  -2.7223, -13.5976],\n",
              "        [ -0.7848,  -5.1902,   8.8281,  ...,   1.9810,   8.9958,  -3.2451]],\n",
              "       device='cuda:0', grad_fn=<MmBackward0>)"
            ]
          },
          "metadata": {},
          "execution_count": 46
        }
      ]
    },
    {
      "cell_type": "code",
      "metadata": {
        "id": "GpOVv7nInOUw",
        "colab": {
          "base_uri": "https://localhost:8080/"
        },
        "outputId": "6d69eeec-bd2d-4d46-b04f-2e1c0bef0254"
      },
      "source": [
        "W.shape   # The shape of \"W\""
      ],
      "execution_count": 47,
      "outputs": [
        {
          "output_type": "execute_result",
          "data": {
            "text/plain": [
              "torch.Size([784, 10])"
            ]
          },
          "metadata": {},
          "execution_count": 47
        }
      ]
    },
    {
      "cell_type": "code",
      "metadata": {
        "id": "IRq_ouBUnOWx",
        "colab": {
          "base_uri": "https://localhost:8080/"
        },
        "outputId": "cfcfac9f-832a-46c0-c2c5-2ce9f2cf428d"
      },
      "source": [
        "W[:,0].shape    # The shape of the first element of \"W\""
      ],
      "execution_count": 48,
      "outputs": [
        {
          "output_type": "execute_result",
          "data": {
            "text/plain": [
              "torch.Size([784])"
            ]
          },
          "metadata": {},
          "execution_count": 48
        }
      ]
    },
    {
      "cell_type": "code",
      "metadata": {
        "id": "uYWJulTHnOa1",
        "colab": {
          "base_uri": "https://localhost:8080/",
          "height": 422
        },
        "outputId": "f7a8cb95-55a6-429f-c428-60c815a02847"
      },
      "source": [
        "plot(W[:,0].reshape(28,28))   # Plotting the first element of \"W\" with a reshape\n",
        "# function"
      ],
      "execution_count": 49,
      "outputs": [
        {
          "output_type": "display_data",
          "data": {
            "text/plain": [
              "<Figure size 500x500 with 1 Axes>"
            ],
            "image/png": "[encoded data removed]"
          },
          "metadata": {}
        }
      ]
    },
    {
      "cell_type": "code",
      "metadata": {
        "id": "tupFwuSZnOk9",
        "colab": {
          "base_uri": "https://localhost:8080/",
          "height": 422
        },
        "outputId": "1024c41f-a443-409b-cd41-68bb73d9dca3"
      },
      "source": [
        "plot(W[:,2].reshape(28,28))   # Plotting the third element of \"W\" with a reshape\n",
        "# function"
      ],
      "execution_count": 50,
      "outputs": [
        {
          "output_type": "display_data",
          "data": {
            "text/plain": [
              "<Figure size 500x500 with 1 Axes>"
            ],
            "image/png": "[encoded data removed]"
          },
          "metadata": {}
        }
      ]
    },
    {
      "cell_type": "code",
      "metadata": {
        "id": "Wvvy6MrAkC5Z",
        "colab": {
          "base_uri": "https://localhost:8080/"
        },
        "outputId": "bdd4d70b-2bcc-4ed2-a150-7db3f52748cb"
      },
      "source": [
        "W.shape   # The shape of \"W\""
      ],
      "execution_count": 51,
      "outputs": [
        {
          "output_type": "execute_result",
          "data": {
            "text/plain": [
              "torch.Size([784, 10])"
            ]
          },
          "metadata": {},
          "execution_count": 51
        }
      ]
    },
    {
      "cell_type": "code",
      "metadata": {
        "id": "MCrJ9cNPkC76",
        "colab": {
          "base_uri": "https://localhost:8080/"
        },
        "outputId": "2a14831a-d38d-4b32-b422-51fe3929cc5a"
      },
      "source": [
        "(W.T).shape   # The shape of a transposed \"W\""
      ],
      "execution_count": 52,
      "outputs": [
        {
          "output_type": "execute_result",
          "data": {
            "text/plain": [
              "torch.Size([10, 784])"
            ]
          },
          "metadata": {},
          "execution_count": 52
        }
      ]
    },
    {
      "cell_type": "code",
      "metadata": {
        "id": "wAkEKB2_jQyy",
        "colab": {
          "base_uri": "https://localhost:8080/",
          "height": 422
        },
        "outputId": "4cbd6359-d179-4ad1-da83-4b3bbc1fc209"
      },
      "source": [
        "montage_plot((W.T).reshape(10,28,28).cpu().detach().numpy())\n",
        "# Plotting a montage of the wieghts in the transpose of the tensor \"W\" with a\n",
        "# reshape fucntion, detaching the tensor from the computation graph, and converting\n",
        "# it to a numpy array"
      ],
      "execution_count": 53,
      "outputs": [
        {
          "output_type": "display_data",
          "data": {
            "text/plain": [
              "<Figure size 500x500 with 1 Axes>"
            ],
            "image/png": "[encoded data removed]"
          },
          "metadata": {}
        }
      ]
    },
    {
      "cell_type": "code",
      "metadata": {
        "id": "m4BlYG-CgC2z"
      },
      "source": [
        "def softmax(x):   # Defining the softmax function\n",
        "    s1 = torch.exp(x - torch.max(x,1)[0][:,None])   # Calculates the exponentials\n",
        "    # of the elements within \"x\" after subtracting the maximum value in each row\n",
        "    s = s1 / s1.sum(1)[:,None]    # Calculates the softmax function for \"s1\"\n",
        "    return s    # Return function of \"s\""
      ],
      "execution_count": 54,
      "outputs": []
    },
    {
      "cell_type": "code",
      "metadata": {
        "id": "XZ-UV8W_c_9o"
      },
      "source": [
        "def cross_entropy(outputs, labels):             # How many did it get correct\n",
        "    return -torch.sum(softmax(outputs).log()[range(outputs.size()[0]), labels.long()])/outputs.size()[0]"
      ],
      "execution_count": 55,
      "outputs": []
    },
    {
      "cell_type": "code",
      "metadata": {
        "id": "LW3ttVcq1sI9"
      },
      "source": [
        "def acc(out,y):           # The accuracy code\n",
        "    return (torch.sum(torch.max(out,1)[1] == y).item())/y.shape[0]"
      ],
      "execution_count": 56,
      "outputs": []
    },
    {
      "cell_type": "code",
      "metadata": {
        "id": "x79Sie8XKPOC"
      },
      "source": [
        "def get_batch(mode):    # Defining a return batch of data function\n",
        "    b = c.b   # Accesses the attribute \"b\" of the object of \"c\"\n",
        "    if mode == \"train\":     # On the Training section of the data\n",
        "        r = np.random.randint(X.shape[0]-b)   # Generating a random integer between\n",
        "        # 0 and the shape of \"X\"\n",
        "        x = X[r:r+b,:]    # Selecting a batch of rows from \"b\" from \"X\", starting\n",
        "        # from the row \"r\"\n",
        "        y = Y[r:r+b]    # Similar code to the previous line, but it is with \"Y\", and\n",
        "        # it starts with the index of \"r\"\n",
        "    elif mode == \"test\":    # On the testing section of the data\n",
        "        r = np.random.randint(X_test.shape[0]-b)    # Generating a random integer\n",
        "        # between 0 and shape of \"X_test\"\n",
        "        x = X_test[r:r+b,:]   # Selecting a batch of rows from \"b\" from \"X_test\",\n",
        "        # Starting from the row \"r\"\n",
        "        y = Y_test[r:r+b]   # Similar code to the previous line, but it is with\n",
        "        # \"Y_test\", and it starts with the index of \"r\"\n",
        "    return x,y    # The return function of \"x\" and \"y\""
      ],
      "execution_count": 57,
      "outputs": []
    },
    {
      "cell_type": "code",
      "metadata": {
        "id": "vXOr9aM8A8P-"
      },
      "source": [
        "def model(x,w):     # Defining a mathematical model function\n",
        "\n",
        "    return x@w[0]   # Return function of the first element of the multiplication\n",
        "    # matrix of \"x\" and \"w\""
      ],
      "execution_count": 58,
      "outputs": []
    },
    {
      "cell_type": "code",
      "metadata": {
        "id": "-k6j0lacnYYk"
      },
      "source": [
        "def gradient_step(w):   # defining a function that updates the weights of a model\n",
        "\n",
        "    w[0].data = w[0].data - c.L*w[0].grad.data  # Updating the first layer of the\n",
        "    # weights of the model\n",
        "\n",
        "    w[0].grad.data.zero_()    # Resetting that first layer of weights to zero"
      ],
      "execution_count": 59,
      "outputs": []
    },
    {
      "cell_type": "code",
      "metadata": {
        "id": "uzRsuDek9Fve"
      },
      "source": [
        "def make_plots():   # Defining a fucntion that generates a line plot of the sine\n",
        "# and cosine functions\n",
        "\n",
        "    acc_train = acc(model(x,w),y)               # Accuracy through training\n",
        "\n",
        "    xt,yt = get_batch('test')   # Retrieves a batch from the \"test\" dataset\n",
        "\n",
        "    acc_test = acc(model(xt,w),yt)    # Accuracy through testing\n",
        "\n",
        "    wb.log({\"acc_train\": acc_train, \"acc_test\": acc_test})    # Logging the accuracy\n",
        "    # data to the weights and biases"
      ],
      "execution_count": 60,
      "outputs": []
    },
    {
      "cell_type": "code",
      "source": [
        "def Truncated_Normal(size):   # Defining a truncated normal distribution function\n",
        "\n",
        "    u1 = torch.rand(size)*(1-np.exp(-2)) + np.exp(-2)  # Initalizing the weights\n",
        "    # of the neural network\n",
        "    u2 = torch.rand(size)   # Generating random input data for the neural network\n",
        "    z  = torch.sqrt(-2*torch.log(u1)) * torch.cos(2*np.pi*u2)\n",
        "\n",
        "    return z    # Return function of \"z\""
      ],
      "metadata": {
        "id": "fx6a-FjX6bEN"
      },
      "execution_count": 61,
      "outputs": []
    },
    {
      "cell_type": "code",
      "metadata": {
        "id": "v_6a6qnKA7zP",
        "colab": {
          "base_uri": "https://localhost:8080/",
          "height": 127
        },
        "outputId": "6f22087f-719a-4eca-c9e3-7b73f1556cce"
      },
      "source": [
        "for run in range(3):    # Starting a loop that iterates three times\n",
        "\n",
        "    wb.init(project=\"Simple_Linear_SGD_123\");   # Initializing the weights and\n",
        "    # biases for Project \"Simple_Linear_SGD_123\"\n",
        "    c = wb.config   # Assigning the weights and biases configuration tool as \"c\"\n",
        "\n",
        "    c.L = 0.1   #Setting the learning rate for the optimizer to 0.1\n",
        "    c.b = 1024    # Setting the batch size for the optimizer to 1024\n",
        "    c.epochs = 10000    # Setting the number of epochs to 10,000\n",
        "\n",
        "    w = [GPU(Truncated_Normal((784,10)))]   # Intializing the wieghts of the model\n",
        "    # using a truncated normal distribution\n",
        "\n",
        "    for i in range(c.epochs):   # Startig a loop that iterates 10,000 times\n",
        "\n",
        "        x,y = get_batch('train')    # Retrieving the Training dataset\n",
        "\n",
        "        out = model(x,w)          # It's mx + b\n",
        "\n",
        "        loss = cross_entropy(softmax(out),y)        # Calculating the answers and output\n",
        "\n",
        "        loss.backward()     # Calculating the gradients of the loss function\n",
        "\n",
        "        gradient_step(w)              # Updating the weights\n",
        "\n",
        "        make_plots()      # Generating the plots\n",
        "\n",
        "        if (i+1) % 10000 == 0: montage_plot((w[0].T).reshape(10,28,28).cpu().detach().numpy())\n",
        "        # Checking if the current iteration \"i\" is a mulitple of 10,000, reshaping\n",
        "        # the transpose of the first weight tnesor, moving the tensor to the CPU,\n",
        "        # detaching the tensor from the computational graph, and converting it to\n",
        "        # a numpy array"
      ],
      "execution_count": null,
      "outputs": [
        {
          "data": {
            "application/javascript": [
              "\n",
              "        window._wandbApiKey = new Promise((resolve, reject) => {\n",
              "            function loadScript(url) {\n",
              "            return new Promise(function(resolve, reject) {\n",
              "                let newScript = document.createElement(\"script\");\n",
              "                newScript.onerror = reject;\n",
              "                newScript.onload = resolve;\n",
              "                document.body.appendChild(newScript);\n",
              "                newScript.src = url;\n",
              "            });\n",
              "            }\n",
              "            loadScript(\"https://cdn.jsdelivr.net/npm/postmate/build/postmate.min.js\").then(() => {\n",
              "            const iframe = document.createElement('iframe')\n",
              "            iframe.style.cssText = \"width:0;height:0;border:none\"\n",
              "            document.body.appendChild(iframe)\n",
              "            const handshake = new Postmate({\n",
              "                container: iframe,\n",
              "                url: 'https://wandb.ai/authorize'\n",
              "            });\n",
              "            const timeout = setTimeout(() => reject(\"Couldn't auto authenticate\"), 5000)\n",
              "            handshake.then(function(child) {\n",
              "                child.on('authorize', data => {\n",
              "                    clearTimeout(timeout)\n",
              "                    resolve(data)\n",
              "                });\n",
              "            });\n",
              "            })\n",
              "        });\n",
              "    "
            ],
            "text/plain": [
              "<IPython.core.display.Javascript object>"
            ]
          },
          "metadata": {},
          "output_type": "display_data"
        },
        {
          "metadata": {
            "tags": null
          },
          "name": "stderr",
          "output_type": "stream",
          "text": [
            "\u001b[34m\u001b[1mwandb\u001b[0m: Logging into wandb.ai. (Learn how to deploy a W&B server locally: https://wandb.me/wandb-server)\n",
            "\u001b[34m\u001b[1mwandb\u001b[0m: You can find your API key in your browser here: https://wandb.ai/authorize\n",
            "wandb: Paste an API key from your profile and hit enter, or press ctrl+c to quit:"
          ]
        }
      ]
    },
    {
      "cell_type": "code",
      "metadata": {
        "id": "WANJibeUNghZ"
      },
      "source": [
        "for run in range(100):    # Starting a loop that iterates 100 times\n",
        "\n",
        "    wb.init(project=\"Simple_Linear_Adam_2\");    # Initializing the weights and biases\n",
        "    # for Project \"Simple_Linear_Adam_2\"\n",
        "    c = wb.config   # Assigning the wieghts and biases configuration tool as \"c\"\n",
        "\n",
        "    c.L = 0.01    #Setting the learning rate for the optimizer to 0.1\n",
        "    c.b = 1024    # Setting the batch size for the optimizer to 1024\n",
        "    c.epochs = 100000  # Setting the number of epochs to 10,000\n",
        "\n",
        "    w = [GPU(Truncated_Normal((784,10)))]     # Intializing the wieghts of the model\n",
        "    # using a truncated normal distribution\n",
        "\n",
        "    optimizer = torch.optim.Adam(w, lr=c.L)   # Creating an optimizer tool for the\n",
        "    # model using the Adam algorithm\n",
        "\n",
        "    for i in range(c.epochs):   # Starting a loop that iterates 10,000 times\n",
        "\n",
        "        x,y = get_batch('train')    # Retrieving the Training dataset\n",
        "\n",
        "        loss = cross_entropy(softmax(model(x,w)),y)   # Calculating the answers and output\n",
        "\n",
        "        optimizer.zero_grad()   # Clearing the gradients of all optimized tensors\n",
        "        loss.backward()   # Calculating the gradients of the loss function\n",
        "        optimizer.step()    # Updating the weights of the model\n",
        "\n",
        "        wb.log({\"loss\": loss})    #logging the loss values to Weights and Biases\n",
        "\n",
        "        make_plots()      # Generating the plots\n",
        "\n",
        "        if i % 10000 == 0 : montage_plot((w[0].T).reshape(10,28,28).cpu().detach().numpy())\n",
        "        # Checking if the current iteration \"i\" is a mulitple of 10,000, reshaping\n",
        "        # the transpose of the first weight tnesor, moving the tensor to the CPU,\n",
        "        # detaching the tensor from the computational graph, and converting it to\n",
        "        # a numpy array"
      ],
      "execution_count": null,
      "outputs": []
    },
    {
      "cell_type": "markdown",
      "source": [
        "\n",
        "### Autoencoder\n"
      ],
      "metadata": {
        "id": "MMkIx6bTNy8g"
      }
    },
    {
      "cell_type": "code",
      "source": [
        "def get_batch(mode):    # Defining a return batch of data mode\n",
        "    b = 1024    # Batch is equal to 1024\n",
        "    if mode == \"train\":   # Retrieving the Training dataset\n",
        "        r = np.random.randint(X.shape[0]-b)  # Generating a random integer between\n",
        "        # 0 and the shape of \"X\"\n",
        "        x = X[r:r+b,:]    # Selecting a batch of rows from \"b\" from \"X\",\n",
        "        # Starting from the row \"r\"\n",
        "        y = Y[r:r+b]    # Similar code to the previous line, but it is with\n",
        "        # \"Y\", and it starts with the index of \"r\"\n",
        "    elif mode == \"test\":    # Retrieving the Testing dataset\n",
        "        r = np.random.randint(X_test.shape[0]-b)  # Generating a random integer between\n",
        "        # 0 and the shape of \"X_test\"\n",
        "        x = X_test[r:r+b,:]  # Selecting a batch of rows from \"b\" from \"X_test\",\n",
        "        # Starting from the row \"r\"\n",
        "        y = Y_test[r:r+b]   # Similar code to the previous line, but it is with\n",
        "        # \"Y_test\", and it starts with the index of \"r\"\n",
        "    return x,y    # Return function of \"x\" and \"y\""
      ],
      "metadata": {
        "id": "7QaW3xn0-M-l"
      },
      "execution_count": null,
      "outputs": []
    },
    {
      "cell_type": "code",
      "source": [
        "X = X.reshape(X.shape[0],1,28,28)   # Reshaping the input tnesor \"X\" to have an\n",
        "# additional channel dimension\n",
        "X_test = X_test.reshape(X_test.shape[0],1,28,28)    # Same code as last line but\n",
        "# with the input tensor \"X_test\""
      ],
      "metadata": {
        "id": "WBQQOXS7XU-k"
      },
      "execution_count": null,
      "outputs": []
    },
    {
      "cell_type": "code",
      "source": [
        "import torchvision    # Importing torchvision\n",
        "from torch.nn.functional import *   # Importing all functions from the\n",
        "# torch.nn.functional module"
      ],
      "metadata": {
        "id": "Ieh4jE_laYn2"
      },
      "execution_count": null,
      "outputs": []
    },
    {
      "cell_type": "code",
      "source": [
        "X = torchvision.transforms.functional.normalize(X,0.5,0.5)\n",
        "# Normalizing the input tensor \"X\" using the mean and standard deviation\n",
        "X_test = torchvision.transforms.functional.normalize(X_test,0.5,0.5)\n",
        "# This is the same code as the last line but with the input tensor \"X_test\""
      ],
      "metadata": {
        "id": "N4StPT7VBG9O"
      },
      "execution_count": null,
      "outputs": []
    },
    {
      "cell_type": "code",
      "metadata": {
        "id": "UafuXvzKjSw7"
      },
      "source": [
        "def Encoder(x,w):   # Defining the encoder tool for the variables \"x\" and \"w\"\n",
        "    x = relu(conv2d(x,w[0], stride=(2, 2), padding=(1, 1)))   # Performing a 2-D\n",
        "    # convolution operation on the input tensor \"x\" using the first weight, followed\n",
        "    # by a ReLU activation function\n",
        "    x = relu(conv2d(x,w[1], stride=(2, 2), padding=(1, 1)))   # Same code as the\n",
        "    # last line but using the second weight instead\n",
        "    x = x.view(x.size(0), 6272)   # Reshaping the input tensor to have 6272 elements\n",
        "    x = linear(x,w[2])    # Performing a linear transformation on the input tensor\n",
        "    # using the third weight\n",
        "    return x    # Return function of \"x\""
      ],
      "execution_count": null,
      "outputs": []
    },
    {
      "cell_type": "code",
      "metadata": {
        "id": "ivvSdA3VjSw_"
      },
      "source": [
        "def Decoder(x,w):   # Defining the decoder tool for the variables \"x\" and \"w\"\n",
        "    x = linear(x,w[3])  # Performing a linear transformation on the input tensor\n",
        "    # using the fourth weight\n",
        "    x = x.view(x.size(0), 128, 7, 7)     # Reshaping the input tensor\n",
        "    x = relu(conv_transpose2d(x,w[4], stride=(2, 2), padding=(1, 1)))   # Performing\n",
        "    # a transposed 2D convolution operation on the input tensor, using the fifth weight\n",
        "    # followed by a ReLU activation function\n",
        "    x = torch.tanh(conv_transpose2d(x,w[5], stride=(2, 2), padding=(1, 1)))\n",
        "    # Same code as the last line but using the sixth weight, and followed by a\n",
        "    # tanh activation function\n",
        "    return x    # Return function of \"x\""
      ],
      "execution_count": null,
      "outputs": []
    },
    {
      "cell_type": "code",
      "metadata": {
        "id": "R8TLNLTkjSxG"
      },
      "source": [
        "def Autoencoder(x,w):   # Defining the Autencoder tool for the variables \"x\" and \"w\"\n",
        "    return Decoder(Encoder(x,w),w)        # It first encodes the data and then decodes it, return code"
      ],
      "execution_count": null,
      "outputs": []
    },
    {
      "cell_type": "code",
      "metadata": {
        "id": "-iw6YTpBU8sr"
      },
      "source": [
        "num_steps = 1000    # There are 1000 number of steps\n",
        "batch_size = 512    # The batch size is 512\n",
        "learning_rate = 1e-3  # Learning rate is set to 1e-3"
      ],
      "execution_count": null,
      "outputs": []
    },
    {
      "cell_type": "code",
      "source": [
        "from scipy import stats   # Importing the stats module from the scipy library\n",
        "import numpy as np  # Importing numpy\n",
        "import matplotlib.pyplot as plt   # Importing matplotlib.pyplot\n",
        "import urllib.request   # Importing urllib.request\n",
        "from PIL import Image   # Importing the image module from the PIL\n",
        "from imageio import *   # Importing all modules from the imageio library\n",
        "import torch    # Importing torch\n",
        "from skimage.transform import resize    # Importing the resize function from the\n",
        "# skimage.trnasform module\n",
        "from mpl_toolkits.axes_grid1.axes_rgb import make_rgb_axes, RGBAxes # Importing the\n",
        "# make_rgb_axes, and the RGBAxes from the mpl_toolkits.axes_grid1.axes_rgb module\n",
        "from torchvision.models import *  # Importing all tools from the torchvision.models\n",
        "# module\n",
        "from torchvision.datasets import MNIST,KMNIST,FashionMNIST  # Importing the MNIST,\n",
        "# KMNIST, and the FashionMNIST tools from the torchvision.datasets module\n",
        "from skimage.util import montage     # Importing the montage tool from the skimage.util\n",
        "# module"
      ],
      "metadata": {
        "id": "wmj18jh0bJW8"
      },
      "execution_count": null,
      "outputs": []
    },
    {
      "cell_type": "code",
      "source": [
        "def randn_trunc(s): # Defining Truncated Normal Random Numbers\n",
        "    mu = 0    # Assigning Variables\n",
        "    sigma = 0.1\n",
        "    R = stats.truncnorm((-2*sigma - mu) / sigma, (2*sigma - mu) / sigma, loc=mu, scale=sigma)\n",
        "    # \"R\" is being assigned as a truncated normal distribution formula\n",
        "    return R.rvs(s)   # Return function for an array of random variates from the\n",
        "    # truncated normal distribution"
      ],
      "metadata": {
        "id": "3t3l54lzbGSE"
      },
      "execution_count": null,
      "outputs": []
    },
    {
      "cell_type": "code",
      "metadata": {
        "scrolled": true,
        "id": "Au5YND2GU8sr"
      },
      "source": [
        "#Encode\n",
        "w0 = GPU(randn_trunc((64,1,4,4)))\n",
        "w1 = GPU(randn_trunc((128,64,4,4)))\n",
        "w2 = GPU(randn_trunc((10,6272)))\n",
        "#Decode\n",
        "w3 = GPU(randn_trunc((6272,10)))\n",
        "w4 = GPU(randn_trunc((128,64,4,4)))\n",
        "w5 = GPU(randn_trunc((64,1,4,4)))\n",
        "\n",
        "w = [w0,w1,w2,w3,w4,w5]   # \"w\" is assigned with an array staring from the first\n",
        "# weight to the sixth weight\n",
        "\n",
        "optimizer = torch.optim.Adam(params=w, lr=learning_rate)    # Creating an Adam optimizer\n",
        "# tool that will update the weights during the training\n",
        "\n",
        "for i in range(num_steps):    # Staring the loop with an iteration of \"num_steps\"\n",
        "\n",
        "    x_real,y = get_batch('train')   # Retrieving the training dataset\n",
        "\n",
        "    x_fake = Autoencoder(x_real,w)        # Gives out fake images when inputing real values\n",
        "\n",
        "    loss = torch.mean((x_fake - x_real)**2)   # Calculating the mean difference\n",
        "    # between the fake images and the real images\n",
        "\n",
        "    optimizer.zero_grad()   # Clears the gradients of all optimized parameters\n",
        "    loss.backward()     # Calculating the gradients of the loss function\n",
        "    optimizer.step()    # Updating the parameters of the model\n",
        "\n",
        "    if i % 100 == 0: print(loss.item())   # Prints the value of the loss function\n",
        "    # every 100 iterations"
      ],
      "execution_count": null,
      "outputs": []
    },
    {
      "cell_type": "code",
      "source": [
        "image_batch,y = get_batch('test')     # Takes a batch of the \"test\" section"
      ],
      "metadata": {
        "id": "9KtDnM_cXeJf"
      },
      "execution_count": null,
      "outputs": []
    },
    {
      "cell_type": "code",
      "source": [
        "image_batch_recon = Autoencoder(image_batch,w)    # Reconstructs the imput image\n",
        "# batch using the weights of the autoencoder model"
      ],
      "metadata": {
        "id": "cUHiRtNJXeMM"
      },
      "execution_count": null,
      "outputs": []
    },
    {
      "cell_type": "code",
      "source": [
        "torch.mean((image_batch_recon - image_batch)**2)    # Calculating the mean difference\n",
        "# between the reconstruction batch and the test batch"
      ],
      "metadata": {
        "id": "kAvWP-HRXeYy"
      },
      "execution_count": null,
      "outputs": []
    },
    {
      "cell_type": "code",
      "source": [
        "montage_plot(image_batch[0:25,0,:,:].cpu().detach().numpy())  # Creating a montage\n",
        "# plot of the first 25 images within the image_batch"
      ],
      "metadata": {
        "id": "j9GNtjyxTrLg"
      },
      "execution_count": null,
      "outputs": []
    },
    {
      "cell_type": "code",
      "source": [
        "montage_plot(image_batch_recon[0:25,0,:,:].cpu().detach().numpy())    # Same code\n",
        "# as the last line but with the image_batch_recon"
      ],
      "metadata": {
        "id": "Mc87oPuJYFqx"
      },
      "execution_count": null,
      "outputs": []
    },
    {
      "cell_type": "markdown",
      "source": [
        "\n",
        "### Generator\n",
        "\n"
      ],
      "metadata": {
        "id": "x4_p3zNkNz85"
      }
    },
    {
      "cell_type": "code",
      "source": [],
      "metadata": {
        "id": "OndxZEOPbAv_"
      },
      "execution_count": null,
      "outputs": []
    },
    {
      "cell_type": "code",
      "metadata": {
        "id": "3KqMhS0SbBZW"
      },
      "source": [
        "latent_size = 64    # size of the latent representation of the autoencoder model\n",
        "hidden_size = 256   # size of the hiddien representation\n",
        "image_size = 784    # Size of the input images\n",
        "b = 1024    # batch size"
      ],
      "execution_count": null,
      "outputs": []
    },
    {
      "cell_type": "code",
      "metadata": {
        "id": "bqUjdQl3bBZX"
      },
      "source": [
        "#MNIST\n",
        "# train_set = MNIST('./data', train=True, download=True)\n",
        "# test_set = MNIST('./data', train=False, download=True)\n",
        "\n",
        "#KMNIST\n",
        "#train_set = KMNIST('./data', train=True, download=True)\n",
        "#test_set = KMNIST('./data', train=False, download=True)\n",
        "\n",
        "#Fashion MNIST\n",
        "train_set = FashionMNIST('./data', train=True, download=True)\n",
        "test_set = FashionMNIST('./data', train=False, download=True)"
      ],
      "execution_count": null,
      "outputs": []
    },
    {
      "cell_type": "code",
      "metadata": {
        "id": "zAjtvOD9bBZX"
      },
      "source": [
        "X = train_set.data.numpy()    # Converting data tensors to a numpy array\n",
        "X_test = test_set.data.numpy()\n",
        "Y = train_set.targets.numpy()\n",
        "Y_test = test_set.targets.numpy()\n",
        "X = X[:,None,:,:]/255   # Normalizing the input images\n",
        "X_test = X_test[:,None,:,:]/255\n",
        "X = (X - 0.5)/0.5   # Having the mean to be zero and standard deviation to one\n",
        "X_test = (X_test - 0.5)/0.5"
      ],
      "execution_count": null,
      "outputs": []
    },
    {
      "cell_type": "code",
      "metadata": {
        "id": "MFT0i09GbBZX"
      },
      "source": [
        "n = 7\n",
        "\n",
        "index = np.where(Y == n)    # Returns the indices of the elements in the \"Y\" array\n",
        "# that are equal to \"n\"\n",
        "X = X[index]      # Selects the elements from the \"X\" array that correspond to the\n",
        "# indices in the index array\n",
        "index = np.where(Y_test == n)   # Same cide as the last two lines but involving\n",
        "# \"Y_test\" and \"X_test\"\n",
        "X_test = X_test[index]"
      ],
      "execution_count": null,
      "outputs": []
    },
    {
      "cell_type": "code",
      "metadata": {
        "id": "86_6wZZTbBZX"
      },
      "source": [
        "X.shape,Y.shape,X_test.shape,Y_test.shape   # The shape of all four variables"
      ],
      "execution_count": null,
      "outputs": []
    },
    {
      "cell_type": "code",
      "metadata": {
        "id": "neg7qmgcbBZX"
      },
      "source": [
        "###################################################"
      ],
      "execution_count": null,
      "outputs": []
    },
    {
      "cell_type": "code",
      "metadata": {
        "id": "WfVSOFbebBZX"
      },
      "source": [
        "X = GPU_data(X)   # Moving the variables to the GPU\n",
        "X_test = GPU_data(X_test)\n",
        "Y = GPU_data(Y)\n",
        "Y_test = GPU_data(Y_test)"
      ],
      "execution_count": null,
      "outputs": []
    },
    {
      "cell_type": "code",
      "metadata": {
        "id": "dJfJfXm-bBZX"
      },
      "source": [
        "x,y = get_batch('train')    # Retrieving the training dataset"
      ],
      "execution_count": null,
      "outputs": []
    },
    {
      "cell_type": "code",
      "source": [],
      "metadata": {
        "id": "XTKyOsnC_GYN"
      },
      "execution_count": null,
      "outputs": []
    },
    {
      "cell_type": "code",
      "source": [
        "x.shape   # The shape of \"x\""
      ],
      "metadata": {
        "id": "Q197FoFQ-yM9"
      },
      "execution_count": null,
      "outputs": []
    },
    {
      "cell_type": "code",
      "metadata": {
        "id": "V51COsfUbBZX"
      },
      "source": [
        "montage_plot(x[0:25,0,:,:].detach().cpu().numpy())    # Creating a montage plot\n",
        "# for the first 25 images in the \"x\" array"
      ],
      "execution_count": null,
      "outputs": []
    },
    {
      "cell_type": "code",
      "metadata": {
        "id": "z7LYsL5_bBZX"
      },
      "source": [
        "#D\n",
        "w0 = GPU(randn_trunc((64,1,4,4)))\n",
        "w1 = GPU(randn_trunc((128,64,4,4)))\n",
        "w2 = GPU(randn_trunc((1,6272)))\n",
        "#G\n",
        "w3 = GPU(randn_trunc((6272,64)))\n",
        "w4 = GPU(randn_trunc((128,64,4,4)))\n",
        "w5 = GPU(randn_trunc((64,1,4,4)))\n",
        "\n",
        "w = [w0,w1,w2,w3,w4,w5]   # The list of the weights"
      ],
      "execution_count": null,
      "outputs": []
    },
    {
      "cell_type": "code",
      "metadata": {
        "id": "UbDVggMGbBZX"
      },
      "source": [
        "def D(x,w):   # Defining \"D\"\n",
        "    x = relu(conv2d(x,w[0], stride=(2, 2), padding=(1, 1)))   # Performing a 2-D\n",
        "    # convolution operation on the input tensor \"x\" using the first weight, followed\n",
        "    # by a ReLU activation function\n",
        "    x = relu(conv2d(x,w[1], stride=(2, 2), padding=(1, 1)))   # Same code as the\n",
        "    # last line but using the second weight\n",
        "    x = x.view(x.size(0), 6272)   # Reshaping the \"x\" tensor\n",
        "    x = linear(x,w[2])    # applying a linear transformation to the \"x\" tensor\n",
        "    x = torch.sigmoid(x)  # applying the sigmoid activation function to the \"x\"\n",
        "    # tenosr\n",
        "    return x    # Return function of \"x\""
      ],
      "execution_count": null,
      "outputs": []
    },
    {
      "cell_type": "code",
      "metadata": {
        "id": "kcOOwwfqbBZX"
      },
      "source": [
        "def G(x,w):   # Defining \"G\"\n",
        "    x = linear(x,w[3])    # applying a linear transformation to the \"x\" tensor\n",
        "    x = x.view(x.size(0), 128, 7, 7)    # Reshaping the tensor \"x\"\n",
        "    x = relu(conv_transpose2d(x,w[4], stride=(2, 2), padding=(1, 1)))   # Performing a 2-D\n",
        "    # transposed convolution operation on the input tensor \"x\" using the fifth weight,\n",
        "    # followed by a ReLU activation function\n",
        "    x = torch.tanh(conv_transpose2d(x,w[5], stride=(2, 2), padding=(1, 1)))\n",
        "    # Same code as the last line but using the sixth weight\n",
        "    return x    # Return function of \"x\""
      ],
      "execution_count": null,
      "outputs": []
    },
    {
      "cell_type": "code",
      "source": [
        "b = 1024    # Batch size"
      ],
      "metadata": {
        "id": "nLHWIGrF-75j"
      },
      "execution_count": null,
      "outputs": []
    },
    {
      "cell_type": "code",
      "source": [
        "batch_size = b    # Renaming"
      ],
      "metadata": {
        "id": "351S9-Hi-3dd"
      },
      "execution_count": null,
      "outputs": []
    },
    {
      "cell_type": "code",
      "source": [
        "batch_size    # The result of batch_size"
      ],
      "metadata": {
        "id": "iJoxfGJG-5CN"
      },
      "execution_count": null,
      "outputs": []
    },
    {
      "cell_type": "code",
      "metadata": {
        "id": "Md0XK_V0bBZX"
      },
      "source": [
        "d_optimizer = torch.optim.Adam(w[0:3], lr=0.0002)   # Creating a Adam optimizer\n",
        "# for the weights with a learning state for \"d\"\n",
        "g_optimizer = torch.optim.Adam(w[3:], lr=0.0002)  # Same code as last line but\n",
        "# for \"g\"\n",
        "\n",
        "real_labels = (torch.ones(batch_size, 1).cuda())    # Creates a tensor of ones\n",
        "# and moves it to the GPU\n",
        "fake_labels = (torch.zeros(batch_size, 1).cuda())   # Same code as last line but\n",
        "# its with a tensor of zeros"
      ],
      "execution_count": null,
      "outputs": []
    },
    {
      "cell_type": "code",
      "metadata": {
        "id": "1qIZIv7-bBZX"
      },
      "source": [
        "num_epochs = 500  # Number of epochs\n",
        "batches = X.shape[0]//batch_size    # The shape of \"X\", divided by the batch size\n",
        "steps = num_epochs*batches  # Number of epochs, multiplied by batches"
      ],
      "execution_count": null,
      "outputs": []
    },
    {
      "cell_type": "code",
      "metadata": {
        "id": "x1da20dlbBZX"
      },
      "source": [
        "z1 = (torch.randn(steps,batch_size,latent_size).cuda())   # Creating a tensor of random\n",
        "# noise with shape and it gets moved to the GPU\n",
        "z2 = (torch.randn(steps,batch_size,latent_size).cuda())"
      ],
      "execution_count": null,
      "outputs": []
    },
    {
      "cell_type": "code",
      "metadata": {
        "id": "Xfr-JmZqbBZX"
      },
      "source": [
        "for i in range(steps):    # Starting a loop with a iteration of \"steps\" times\n",
        "\n",
        "    images,y = get_batch('train')   # Retrieving the training dataset\n",
        "\n",
        "    d_loss = binary_cross_entropy(D(images,w), real_labels) + binary_cross_entropy(D(G(z1[i],w),w), fake_labels)\n",
        "    # Calculating the loss function for the discriminator in a generative adversarial\n",
        "    # network (GAN)\n",
        "    d_optimizer.zero_grad()   # Clears the gradients of the weights of the discriminator\n",
        "    d_loss.backward()   # Calculates the gradients of the loss function\n",
        "    d_optimizer.step()    # Updating the weights of the discriminator\n",
        "\n",
        "\n",
        "    g_loss = binary_cross_entropy(D(G(z2[i],w),w), real_labels)   # Same code as the\n",
        "    # last paragraph of code, but for \"g\"\n",
        "    g_optimizer.zero_grad()\n",
        "    g_loss.backward()\n",
        "    g_optimizer.step()\n",
        "\n",
        "\n",
        "    if i % 200 == 0:    # A conditional statement that checks if \"i\" is divisible\n",
        "    # by 200\n",
        "        out = G(z1[np.random.randint(steps)],w)   # Generating a random image using\n",
        "        # the generator \"G\"\n",
        "        montage_plot(out.view(batch_size,1,28,28).detach().cpu().numpy()[0:25,0,:,:])\n",
        "        # Creating a montage plot using the first 25 generated images"
      ],
      "execution_count": null,
      "outputs": []
    },
    {
      "cell_type": "code",
      "source": [],
      "metadata": {
        "id": "Vws7NBXkPm8E"
      },
      "execution_count": null,
      "outputs": []
    },
    {
      "cell_type": "code",
      "source": [],
      "metadata": {
        "id": "bJY1hGOIba67"
      },
      "execution_count": null,
      "outputs": []
    },
    {
      "cell_type": "code",
      "source": [
        "z1[np.random.randint(steps)].shape    # Returns the shpe of a randomly selected\n",
        "# element from the z1 tensor"
      ],
      "metadata": {
        "id": "A_pN8FvYATEy"
      },
      "execution_count": null,
      "outputs": []
    },
    {
      "cell_type": "code",
      "source": [
        "noise = GPU_data(torch.randn(1,64))   # Creates a tensor of random noise with shape\n",
        "# and its moved to the GPU"
      ],
      "metadata": {
        "id": "tQAacm6dAVFU"
      },
      "execution_count": null,
      "outputs": []
    },
    {
      "cell_type": "code",
      "metadata": {
        "id": "NBPhGo-mbBZY"
      },
      "source": [
        "output = G(noise,w)   # Generates an image using the generator \"G\""
      ],
      "execution_count": null,
      "outputs": []
    },
    {
      "cell_type": "code",
      "source": [
        "output.shape  # The shape of the output"
      ],
      "metadata": {
        "id": "J-Ci-ogDAcn0"
      },
      "execution_count": null,
      "outputs": []
    },
    {
      "cell_type": "code",
      "source": [
        "plot(output[0,0])   # Plotting the output"
      ],
      "metadata": {
        "id": "XekLNuxzAieQ"
      },
      "execution_count": null,
      "outputs": []
    },
    {
      "cell_type": "code",
      "source": [],
      "metadata": {
        "id": "l9Km8G5vAlhF"
      },
      "execution_count": null,
      "outputs": []
    },
    {
      "cell_type": "code",
      "source": [],
      "metadata": {
        "id": "CXzsqpaLbAx_"
      },
      "execution_count": null,
      "outputs": []
    },
    {
      "cell_type": "code",
      "source": [],
      "metadata": {
        "id": "WDzaYAHGbAz_"
      },
      "execution_count": null,
      "outputs": []
    },
    {
      "cell_type": "code",
      "source": [],
      "metadata": {
        "id": "0oenv0v7bA2H"
      },
      "execution_count": null,
      "outputs": []
    },
    {
      "cell_type": "code",
      "source": [],
      "metadata": {
        "id": "jXwRPV4ubA3_"
      },
      "execution_count": null,
      "outputs": []
    },
    {
      "cell_type": "code",
      "source": [],
      "metadata": {
        "id": "7fsqbWSobA6H"
      },
      "execution_count": null,
      "outputs": []
    },
    {
      "cell_type": "code",
      "source": [],
      "metadata": {
        "id": "PBBqbgVzbA8I"
      },
      "execution_count": null,
      "outputs": []
    },
    {
      "cell_type": "code",
      "source": [],
      "metadata": {
        "id": "5Qs0nobTbA9_"
      },
      "execution_count": null,
      "outputs": []
    },
    {
      "cell_type": "code",
      "source": [],
      "metadata": {
        "id": "Wy7yh74abBAH"
      },
      "execution_count": null,
      "outputs": []
    },
    {
      "cell_type": "code",
      "source": [],
      "metadata": {
        "id": "N_0b021obBB_"
      },
      "execution_count": null,
      "outputs": []
    }
  ]
}